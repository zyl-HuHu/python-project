{
 "cells": [
  {
   "cell_type": "markdown",
   "metadata": {},
   "source": [
    "# 原理"
   ]
  },
  {
   "cell_type": "markdown",
   "metadata": {},
   "source": [
    "调用MyQR接口来实现生成个人所需二维码，并可以设置二维码的大小、是否在现有图片的基础上生成、是否生成动态二维码"
   ]
  },
  {
   "cell_type": "markdown",
   "metadata": {},
   "source": [
    "___"
   ]
  },
  {
   "cell_type": "markdown",
   "metadata": {},
   "source": [
    "# 下载安装MyQR"
   ]
  },
  {
   "cell_type": "code",
   "execution_count": 7,
   "metadata": {
    "scrolled": true
   },
   "outputs": [
    {
     "name": "stdout",
     "output_type": "stream",
     "text": [
      "Collecting MyQR\n",
      "  Using cached https://files.pythonhosted.org/packages/ec/ce/5ff57cde76feaa193978a28097edbb1c649e1f439182649eb9ecc7b86a03/MyQR-2.3.1.zip\n",
      "Requirement already satisfied: imageio>=1.5 in e:\\softsetting\\miniconda\\envs\\zyl\\lib\\site-packages (from MyQR) (2.5.0)\n",
      "Requirement already satisfied: numpy>=1.11.1 in e:\\softsetting\\miniconda\\envs\\zyl\\lib\\site-packages (from MyQR) (1.17.2)\n",
      "Requirement already satisfied: Pillow>=3.3.1 in e:\\softsetting\\miniconda\\envs\\zyl\\lib\\site-packages (from MyQR) (6.0.0)\n",
      "Building wheels for collected packages: MyQR\n",
      "  Building wheel for MyQR (setup.py): started\n",
      "  Building wheel for MyQR (setup.py): finished with status 'done'\n",
      "  Stored in directory: C:\\Users\\HuHu\\AppData\\Local\\pip\\Cache\\wheels\\f2\\34\\a5\\bcee822e19e5cc5adaac1f11c7c4c266d2ac762e61440b0b62\n",
      "Successfully built MyQR\n",
      "Installing collected packages: MyQR\n",
      "Successfully installed MyQR-2.3.1\n",
      "Note: you may need to restart the kernel to use updated packages.\n"
     ]
    }
   ],
   "source": [
    "%pip install MyQR"
   ]
  },
  {
   "cell_type": "markdown",
   "metadata": {},
   "source": [
    "依赖库：  \n",
    "imageio==1.5  \n",
    "numpy==1.11.1  \n",
    "Pillow==3.3.1  "
   ]
  },
  {
   "cell_type": "markdown",
   "metadata": {},
   "source": [
    "imageio,  这个第三方库可以导入很多格式类型的照片，然后又可以将其导出成各种格式的照片，非常好用"
   ]
  },
  {
   "cell_type": "code",
   "execution_count": 6,
   "metadata": {},
   "outputs": [
    {
     "name": "stdout",
     "output_type": "stream",
     "text": [
      "Collecting imageio\n",
      "  Downloading https://files.pythonhosted.org/packages/af/0a/943c965d372dae0b1f1482677d29030ab834351a61a9a632fd62f27f1523/imageio-2.5.0-py3-none-any.whl (3.3MB)\n",
      "Requirement already satisfied: pillow in e:\\softsetting\\miniconda\\envs\\zyl\\lib\\site-packages (from imageio) (6.0.0)\n",
      "Collecting numpy (from imageio)\n",
      "  Downloading https://files.pythonhosted.org/packages/bd/51/7df1a3858ff0465f760b482514f1292836f8be08d84aba411b48dda72fa9/numpy-1.17.2-cp37-cp37m-win_amd64.whl (12.8MB)\n",
      "Installing collected packages: numpy, imageio\n",
      "Successfully installed imageio-2.5.0 numpy-1.17.2\n",
      "Note: you may need to restart the kernel to use updated packages.\n"
     ]
    },
    {
     "name": "stderr",
     "output_type": "stream",
     "text": [
      "  WARNING: Retrying (Retry(total=4, connect=None, read=None, redirect=None, status=None)) after connection broken by 'ReadTimeoutError(\"HTTPSConnectionPool(host='files.pythonhosted.org', port=443): Read timed out. (read timeout=15)\")': /packages/af/0a/943c965d372dae0b1f1482677d29030ab834351a61a9a632fd62f27f1523/imageio-2.5.0-py3-none-any.whl\n",
      "ERROR: thinc 7.0.8 requires tqdm<5.0.0,>=4.10.0, which is not installed.\n"
     ]
    }
   ],
   "source": [
    "%pip install imageio"
   ]
  },
  {
   "cell_type": "markdown",
   "metadata": {},
   "source": [
    "___"
   ]
  },
  {
   "cell_type": "markdown",
   "metadata": {},
   "source": [
    "# 用法"
   ]
  },
  {
   "cell_type": "code",
   "execution_count": null,
   "metadata": {},
   "outputs": [],
   "source": [
    "from MyQR import myqr\n",
    "\n",
    "myqr.run(\n",
    "    words='https://www.jianshu.com',  # str, 扫描二维码后，显示的内容，或是跳转的链接\n",
    "    version=5,  # 设置容错率\n",
    "    level='H',  # 控制纠错水平，范围是L、M、Q、H，从左到右依次升高, 默认纠错等级为'H'\n",
    "    picture='Python.gif',  # 图片所在目录，可以是动图\n",
    "    colorized=False,  # 黑白(False)还是彩色(True)\n",
    "    contrast=1.0,  # float，调节图片的对比度，1.0 表示原始图片，更小的值表示更低对比度，更大反之。默认为1.0\n",
    "    brightness=1.0,  # 用来调节图片的亮度，用法同上。\n",
    "    save_name='Python.gif',  # 控制输出文件名，格式可以是 .jpg， .png ，.bmp ，.gif\n",
    "    save_dir = 'C:\\Users\\HuHu\\Desktop\\Sources'   # str，默认存储位置是当前目录\n",
    "    )"
   ]
  },
  {
   "cell_type": "markdown",
   "metadata": {},
   "source": [
    "___"
   ]
  },
  {
   "cell_type": "markdown",
   "metadata": {},
   "source": [
    "# 生成普通二维码"
   ]
  },
  {
   "cell_type": "code",
   "execution_count": 8,
   "metadata": {},
   "outputs": [
    {
     "name": "stdout",
     "output_type": "stream",
     "text": [
      "line 16: mode: byte\n"
     ]
    },
    {
     "data": {
      "text/plain": [
       "(6, 'H', 'D:\\\\jupyter\\\\案例\\\\qrcode.png')"
      ]
     },
     "execution_count": 8,
     "metadata": {},
     "output_type": "execute_result"
    }
   ],
   "source": [
    "from MyQR import myqr\n",
    "myqr.run(words = 'https://github.com/zyl-HuHu?tab=repositories')"
   ]
  },
  {
   "cell_type": "markdown",
   "metadata": {},
   "source": [
    "# 带图片的艺术二维码"
   ]
  },
  {
   "cell_type": "markdown",
   "metadata": {},
   "source": [
    "注：设置新图片的保存名，以免和上一张二维码图片冲突"
   ]
  },
  {
   "cell_type": "code",
   "execution_count": 10,
   "metadata": {},
   "outputs": [
    {
     "name": "stdout",
     "output_type": "stream",
     "text": [
      "line 16: mode: byte\n"
     ]
    },
    {
     "data": {
      "text/plain": [
       "(6, 'H', 'D:\\\\jupyter\\\\案例\\\\color.png')"
      ]
     },
     "execution_count": 10,
     "metadata": {},
     "output_type": "execute_result"
    }
   ],
   "source": [
    "myqr.run(words='https://github.com/zyl-HuHu?tab=repositories', picture=r'C:\\Users\\HuHu\\Desktop\\Sources\\1.jpg', colorized=True, save_name='color.png') "
   ]
  },
  {
   "cell_type": "markdown",
   "metadata": {},
   "source": [
    "# 动态二维码\n"
   ]
  },
  {
   "cell_type": "markdown",
   "metadata": {},
   "source": [
    "注：们生成保存的文件也必须是.gif 格式"
   ]
  },
  {
   "cell_type": "code",
   "execution_count": 11,
   "metadata": {},
   "outputs": [
    {
     "name": "stdout",
     "output_type": "stream",
     "text": [
      "line 16: mode: byte\n"
     ]
    },
    {
     "data": {
      "text/plain": [
       "(6, 'H', 'D:\\\\jupyter\\\\案例\\\\color.gif')"
      ]
     },
     "execution_count": 11,
     "metadata": {},
     "output_type": "execute_result"
    }
   ],
   "source": [
    "myqr.run(words='https://github.com/zyl-HuHu?tab=repositories', picture=r'C:\\Users\\HuHu\\Desktop\\Sources\\gakki.gif', colorized=True, save_name='color.gif') "
   ]
  }
 ],
 "metadata": {
  "kernelspec": {
   "display_name": "Python 3",
   "language": "python",
   "name": "python3"
  },
  "language_info": {
   "codemirror_mode": {
    "name": "ipython",
    "version": 3
   },
   "file_extension": ".py",
   "mimetype": "text/x-python",
   "name": "python",
   "nbconvert_exporter": "python",
   "pygments_lexer": "ipython3",
   "version": "3.7.3"
  },
  "toc": {
   "base_numbering": 1,
   "nav_menu": {},
   "number_sections": false,
   "sideBar": true,
   "skip_h1_title": false,
   "title_cell": "Table of Contents",
   "title_sidebar": "Contents",
   "toc_cell": false,
   "toc_position": {},
   "toc_section_display": true,
   "toc_window_display": false
  }
 },
 "nbformat": 4,
 "nbformat_minor": 2
}
